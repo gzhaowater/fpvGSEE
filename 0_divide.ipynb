{
 "cells": [
  {
   "cell_type": "code",
   "execution_count": null,
   "metadata": {},
   "outputs": [],
   "source": [
    "import xarray as xr\n",
    "from datetime import datetime, timedelta\n",
    "import glob\n",
    "import numpy as np\n",
    "import pandas as pd\n",
    "import os"
   ]
  },
  {
   "cell_type": "markdown",
   "metadata": {},
   "source": [
    "# 1. divide"
   ]
  },
  {
   "cell_type": "code",
   "execution_count": null,
   "metadata": {},
   "outputs": [],
   "source": [
    "fnames = sorted(glob.glob('era5_data/0_dloaded/t2m_*.nc'))\n",
    "output = []\n",
    "for fname in fnames:\n",
    "    month = int(fname.split('_')[-2])\n",
    "    day = int(fname.split('_')[-1].replace('.nc',''))\n",
    "    mdate = datetime(2020, month, day)\n",
    "    \n",
    "    ds = xr.open_dataset(fname, chunks='auto').drop('realization') - 273.15 ## K to C\n",
    "    ds['hour'] = [np.datetime64(mdate + timedelta(hours=int(c))) for c in ds['hour'].values]\n",
    "    output.append(ds.rename({'hour':'time'}))\n",
    "temp_data = xr.concat(output, dim='time')\n",
    "\n",
    "fnames = sorted(glob.glob('era5_data/0_dloaded/srad_*.nc'))\n",
    "output = []\n",
    "for fname in fnames:\n",
    "    month = int(fname.split('_')[-2])\n",
    "    day = int(fname.split('_')[-1].replace('.nc',''))\n",
    "    mdate = datetime(2020, month, day)\n",
    "    \n",
    "    ds = xr.open_dataset(fname, chunks='auto').drop('realization')/3600  ## J/m2 to W/m2\n",
    "    ds['hour'] = [np.datetime64(mdate + timedelta(hours=int(c))) for c in ds['hour'].values]\n",
    "    output.append(ds.rename({'hour':'time'}))\n",
    "ssrd_data = xr.concat(output, dim='time')"
   ]
  },
  {
   "cell_type": "code",
   "execution_count": null,
   "metadata": {},
   "outputs": [],
   "source": [
    "for mlat in sorted(ssrd_data['lat'].values):\n",
    "    \n",
    "    print(mlat, datetime.now())\n",
    "    ssrd_tmp = ssrd_data.sel(lat=slice(mlat,mlat))\n",
    "    temp_tmp = temp_data.sel(lat=slice(mlat,mlat))\n",
    "    \n",
    "    ssrd_fname = 'tmp_data/era5_ssrd_' + str(mlat) + '.nc'\n",
    "    t2m_fname = 'tmp_data/era5_t2m_' + str(mlat) + '.nc'\n",
    "    \n",
    "    if not os.path.isfile(ssrd_fname):\n",
    "        ssrd_tmp.to_netcdf(ssrd_fname, encoding={'ssrd': dict(zlib=True, complevel=5)})\n",
    "    \n",
    "    if not os.path.isfile(t2m_fname):\n",
    "        temp_tmp.to_netcdf(t2m_fname, encoding={'t2m': dict(zlib=True, complevel=5)})\n",
    "    "
   ]
  },
  {
   "cell_type": "markdown",
   "metadata": {},
   "source": [
    "# 2. diffuse fraction"
   ]
  },
  {
   "cell_type": "code",
   "execution_count": null,
   "metadata": {},
   "outputs": [],
   "source": [
    "fnames = sorted(glob.glob('era5_data/0_dloaded/fdir_*.nc'))\n",
    "output = []\n",
    "for fname in fnames:\n",
    "    month = int(fname.split('_')[-2])\n",
    "    day = int(fname.split('_')[-1].replace('.nc',''))\n",
    "    mdate = datetime(2020, month, day)\n",
    "    \n",
    "    ds = xr.open_dataset(fname, chunks='auto').drop('realization')  ## J/m2\n",
    "    ds['hour'] = [np.datetime64(mdate + timedelta(hours=int(c))) for c in ds['hour'].values]\n",
    "    output.append(ds.rename({'hour':'time'}))\n",
    "fdir_data = xr.concat(output, dim='time')\n",
    "\n",
    "fnames = sorted(glob.glob('era5_data/0_dloaded/srad_*.nc'))\n",
    "output = []\n",
    "for fname in fnames:\n",
    "    month = int(fname.split('_')[-2])\n",
    "    day = int(fname.split('_')[-1].replace('.nc',''))\n",
    "    mdate = datetime(2020, month, day)\n",
    "    \n",
    "    ds = xr.open_dataset(fname, chunks='auto').drop('realization')  ## J/m2\n",
    "    ds['hour'] = [np.datetime64(mdate + timedelta(hours=int(c))) for c in ds['hour'].values]\n",
    "    output.append(ds.rename({'hour':'time'}))\n",
    "ssrd_data = xr.concat(output, dim='time')"
   ]
  },
  {
   "cell_type": "code",
   "execution_count": null,
   "metadata": {},
   "outputs": [],
   "source": [
    "%time\n",
    "dfrac_data = 1 - fdir_data['fdir']/ssrd_data['ssrd']\n",
    "dfrac_data = dfrac_data.clip(0,1).fillna(0).rename('dfrac')\n",
    "dfrac_data"
   ]
  },
  {
   "cell_type": "code",
   "execution_count": null,
   "metadata": {},
   "outputs": [],
   "source": [
    "for mlat in sorted(dfrac_data['lat'].values):\n",
    "    \n",
    "    print(mlat, datetime.now())\n",
    "    dfrac_tmp = dfrac_data.sel(lat=slice(mlat,mlat))\n",
    "    \n",
    "    dfrac_fname = 'tmp_data/era5_dfrac_' + str(mlat) + '.nc'\n",
    "    \n",
    "    if not os.path.isfile(dfrac_fname):\n",
    "        dfrac_tmp.to_netcdf(dfrac_fname, encoding={'dfrac': dict(zlib=True, complevel=5)})"
   ]
  }
 ],
 "metadata": {
  "kernelspec": {
   "display_name": "Python (myenv)",
   "language": "python",
   "name": "myenv"
  },
  "language_info": {
   "codemirror_mode": {
    "name": "ipython",
    "version": 3
   },
   "file_extension": ".py",
   "mimetype": "text/x-python",
   "name": "python",
   "nbconvert_exporter": "python",
   "pygments_lexer": "ipython3",
   "version": "3.10.5"
  }
 },
 "nbformat": 4,
 "nbformat_minor": 2
}
